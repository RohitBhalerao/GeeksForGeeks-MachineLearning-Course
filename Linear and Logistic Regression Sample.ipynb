{
 "cells": [
  {
   "cell_type": "code",
   "execution_count": 16,
   "metadata": {},
   "outputs": [
    {
     "name": "stdout",
     "output_type": "stream",
     "text": [
      "Estimated coefficients:\n",
      "b_0 = 1.2363636363636363  \\ \n",
      "b_1 = 1.1696969696969697\n"
     ]
    },
    {
     "data": {
      "image/png": "[encoded data removed]",
      "text/plain": [
       "<Figure size 432x288 with 1 Axes>"
      ]
     },
     "metadata": {
      "needs_background": "light"
     },
     "output_type": "display_data"
    }
   ],
   "source": [
    "\n",
    "import numpy as np \n",
    "import matplotlib.pyplot as plt \n",
    "  \n",
    "def estimate_coef(x, y): \n",
    "    # number of observations/points \n",
    "    n = np.size(x) \n",
    "  \n",
    "    # mean of x and y vector \n",
    "    m_x, m_y = np.mean(x), np.mean(y) \n",
    "  \n",
    "    # calculating cross-deviation and deviation about x \n",
    "    SS_xy = np.sum(y*x) - n*m_y*m_x \n",
    "    SS_xx = np.sum(x*x) - n*m_x*m_x \n",
    "  \n",
    "    # calculating regression coefficients \n",
    "    b_1 = SS_xy / SS_xx \n",
    "    b_0 = m_y - b_1*m_x \n",
    "  \n",
    "    return(b_0, b_1) \n",
    "  \n",
    "def plot_regression_line(x, y, b): \n",
    "    # plotting the actual points as scatter plot \n",
    "    plt.scatter(x, y, color = \"m\", \n",
    "               marker = \"o\", s = 30) \n",
    "  \n",
    "    # predicted response vector \n",
    "    y_pred = b[0] + b[1]*x \n",
    "  \n",
    "    # plotting the regression line \n",
    "    plt.plot(x, y_pred, color = \"g\") \n",
    "  \n",
    "    # putting labels \n",
    "    plt.xlabel('x') \n",
    "    plt.ylabel('y') \n",
    "  \n",
    "    # function to show plot \n",
    "    plt.show() \n",
    "  \n",
    "def main(): \n",
    "    # observations \n",
    "    x = np.array([0, 1, 2, 3, 4, 5, 6, 7, 8, 9]) \n",
    "    y = np.array([1, 3, 2, 5, 7, 8, 8, 9, 10, 12]) \n",
    "  \n",
    "    # estimating coefficients \n",
    "    b = estimate_coef(x, y) \n",
    "    print(\"Estimated coefficients:\\nb_0 = {}  \\ \\nb_1 = {}\".format(b[0], b[1])) \n",
    "  \n",
    "    # plotting regression line \n",
    "    plot_regression_line(x, y, b) \n",
    "  \n",
    "if __name__ == \"__main__\": \n",
    "    main() \n"
   ]
  },
  {
   "cell_type": "code",
   "execution_count": 10,
   "metadata": {},
   "outputs": [
    {
     "name": "stdout",
     "output_type": "stream",
     "text": [
      "Estimated regression coefficients: [[  1.70474504  15.04062212 -20.47216021]]\n",
      "No. of iterations: 2612\n",
      "Correctly predicted labels: 100\n"
     ]
    },
    {
     "data": {
      "image/png": "[encoded data removed]",
      "text/plain": [
       "<Figure size 432x288 with 1 Axes>"
      ]
     },
     "metadata": {
      "needs_background": "light"
     },
     "output_type": "display_data"
    }
   ],
   "source": [
    "import csv \n",
    "import numpy as np \n",
    "import matplotlib.pyplot as plt \n",
    "\n",
    "\n",
    "def loadCSV(filename): \n",
    "\t''' \n",
    "\tfunction to load dataset \n",
    "\t'''\n",
    "\twith open(filename,\"r\") as csvfile: \n",
    "\t\tlines = csv.reader(csvfile) \n",
    "\t\tdataset = list(lines) \n",
    "\t\tfor i in range(len(dataset)): \n",
    "\t\t\tdataset[i] = [float(x) for x in dataset[i]]\t \n",
    "\treturn np.array(dataset) \n",
    "\n",
    "\n",
    "def normalize(X): \n",
    "\t''' \n",
    "\tfunction to normalize feature matrix, X \n",
    "\t'''\n",
    "\tmins = np.min(X, axis = 0) \n",
    "\tmaxs = np.max(X, axis = 0) \n",
    "\trng = maxs - mins \n",
    "\tnorm_X = 1 - ((maxs - X)/rng) \n",
    "\treturn norm_X \n",
    "\n",
    "\n",
    "def logistic_func(beta, X): \n",
    "\t''' \n",
    "\tlogistic(sigmoid) function \n",
    "\t'''\n",
    "\treturn 1.0/(1 + np.exp(-np.dot(X, beta.T))) \n",
    "\n",
    "\n",
    "def log_gradient(beta, X, y): \n",
    "\t''' \n",
    "\tlogistic gradient function \n",
    "\t'''\n",
    "\tfirst_calc = logistic_func(beta, X) - y.reshape(X.shape[0], -1) \n",
    "\tfinal_calc = np.dot(first_calc.T, X) \n",
    "\treturn final_calc \n",
    "\n",
    "\n",
    "def cost_func(beta, X, y): \n",
    "\t''' \n",
    "\tcost function, J \n",
    "\t'''\n",
    "\tlog_func_v = logistic_func(beta, X) \n",
    "\ty = np.squeeze(y) \n",
    "\tstep1 = y * np.log(log_func_v) \n",
    "\tstep2 = (1 - y) * np.log(1 - log_func_v) \n",
    "\tfinal = -step1 - step2 \n",
    "\treturn np.mean(final) \n",
    "\n",
    "\n",
    "def grad_desc(X, y, beta, lr=.01, converge_change=.001): \n",
    "\t''' \n",
    "\tgradient descent function \n",
    "\t'''\n",
    "\tcost = cost_func(beta, X, y) \n",
    "\tchange_cost = 1\n",
    "\tnum_iter = 1\n",
    "\t\n",
    "\twhile(change_cost > converge_change): \n",
    "\t\told_cost = cost \n",
    "\t\tbeta = beta - (lr * log_gradient(beta, X, y)) \n",
    "\t\tcost = cost_func(beta, X, y) \n",
    "\t\tchange_cost = old_cost - cost \n",
    "\t\tnum_iter += 1\n",
    "\t\n",
    "\treturn beta, num_iter \n",
    "\n",
    "\n",
    "def pred_values(beta, X): \n",
    "\t''' \n",
    "\tfunction to predict labels \n",
    "\t'''\n",
    "\tpred_prob = logistic_func(beta, X) \n",
    "\tpred_value = np.where(pred_prob >= .5, 1, 0) \n",
    "\treturn np.squeeze(pred_value) \n",
    "\n",
    "\n",
    "def plot_reg(X, y, beta): \n",
    "\t''' \n",
    "\tfunction to plot decision boundary \n",
    "\t'''\n",
    "\t# labelled observations \n",
    "\tx_0 = X[np.where(y == 0.0)] \n",
    "\tx_1 = X[np.where(y == 1.0)] \n",
    "\t\n",
    "\t# plotting points with diff color for diff label \n",
    "\tplt.scatter([x_0[:, 1]], [x_0[:, 2]], c='b', label='y = 0') \n",
    "\tplt.scatter([x_1[:, 1]], [x_1[:, 2]], c='r', label='y = 1') \n",
    "\t\n",
    "\t# plotting decision boundary \n",
    "\tx1 = np.arange(0, 1, 0.1) \n",
    "\tx2 = -(beta[0,0] + beta[0,1]*x1)/beta[0,2] \n",
    "\tplt.plot(x1, x2, c='k', label='reg line') \n",
    "\n",
    "\tplt.xlabel('x1') \n",
    "\tplt.ylabel('x2') \n",
    "\tplt.legend() \n",
    "\tplt.show() \n",
    "\t\n",
    "\n",
    "\t\n",
    "if __name__ == \"__main__\": \n",
    "\t# load the dataset \n",
    "\tdataset = loadCSV('dataset1.csv') \n",
    "\t\n",
    "\t# normalizing feature matrix \n",
    "\tX = normalize(dataset[:, :-1]) \n",
    "\t\n",
    "\t# stacking columns wth all ones in feature matrix \n",
    "\tX = np.hstack((np.matrix(np.ones(X.shape[0])).T, X)) \n",
    "\n",
    "\t# response vector \n",
    "\ty = dataset[:, -1] \n",
    "\n",
    "\t# initial beta values \n",
    "\tbeta = np.matrix(np.zeros(X.shape[1])) \n",
    "\n",
    "\t# beta values after running gradient descent \n",
    "\tbeta, num_iter = grad_desc(X, y, beta) \n",
    "\n",
    "\t# estimated beta values and number of iterations \n",
    "\tprint(\"Estimated regression coefficients:\", beta) \n",
    "\tprint(\"No. of iterations:\", num_iter) \n",
    "\n",
    "\t# predicted labels \n",
    "\ty_pred = pred_values(beta, X) \n",
    "\t\n",
    "\t# number of correctly predicted labels \n",
    "\tprint(\"Correctly predicted labels:\", np.sum(y == y_pred)) \n",
    "\t\n",
    "\t# plotting regression line \n",
    "\tplot_reg(X, y, beta) \n"
   ]
  },
  {
   "cell_type": "code",
   "execution_count": 11,
   "metadata": {},
   "outputs": [
    {
     "name": "stderr",
     "output_type": "stream",
     "text": [
      "/home/rohitbhalerao/anaconda3/lib/python3.7/site-packages/sklearn/linear_model/logistic.py:432: FutureWarning: Default solver will be changed to 'lbfgs' in 0.22. Specify a solver to silence this warning.\n",
      "  FutureWarning)\n",
      "/home/rohitbhalerao/anaconda3/lib/python3.7/site-packages/sklearn/linear_model/logistic.py:469: FutureWarning: Default multi_class will be changed to 'auto' in 0.22. Specify the multi_class option to silence this warning.\n",
      "  \"this warning.\", FutureWarning)\n"
     ]
    },
    {
     "name": "stdout",
     "output_type": "stream",
     "text": [
      "Logistic Regression model accuracy(in %): 95.6884561891516\n"
     ]
    }
   ],
   "source": [
    "\n",
    "from sklearn import datasets, linear_model, metrics \n",
    "   \n",
    "# load the digit dataset \n",
    "digits = datasets.load_digits() \n",
    "   \n",
    "# defining feature matrix(X) and response vector(y) \n",
    "X = digits.data \n",
    "y = digits.target \n",
    "  \n",
    "# splitting X and y into training and testing sets \n",
    "from sklearn.model_selection import train_test_split \n",
    "X_train, X_test, y_train, y_test = train_test_split(X, y, test_size=0.4, \n",
    "                                                    random_state=1) \n",
    "   \n",
    "# create logistic regression object \n",
    "reg = linear_model.LogisticRegression() \n",
    "   \n",
    "# train the model using the training sets \n",
    "reg.fit(X_train, y_train) \n",
    "  \n",
    "# making predictions on the testing set \n",
    "y_pred = reg.predict(X_test) \n",
    "   \n",
    "# comparing actual response values (y_test) with predicted response values (y_pred) \n",
    "print(\"Logistic Regression model accuracy(in %):\",  \n",
    "metrics.accuracy_score(y_test, y_pred)*100) \n"
   ]
  },
  {
   "cell_type": "code",
   "execution_count": null,
   "metadata": {},
   "outputs": [],
   "source": []
  },
  {
   "cell_type": "code",
   "execution_count": null,
   "metadata": {},
   "outputs": [],
   "source": []
  },
  {
   "cell_type": "code",
   "execution_count": null,
   "metadata": {},
   "outputs": [],
   "source": []
  },
  {
   "cell_type": "code",
   "execution_count": null,
   "metadata": {},
   "outputs": [],
   "source": []
  },
  {
   "cell_type": "code",
   "execution_count": null,
   "metadata": {},
   "outputs": [],
   "source": []
  },
  {
   "cell_type": "code",
   "execution_count": null,
   "metadata": {},
   "outputs": [],
   "source": []
  }
 ],
 "metadata": {
  "kernelspec": {
   "display_name": "Python 3",
   "language": "python",
   "name": "python3"
  },
  "language_info": {
   "codemirror_mode": {
    "name": "ipython",
    "version": 3
   },
   "file_extension": ".py",
   "mimetype": "text/x-python",
   "name": "python",
   "nbconvert_exporter": "python",
   "pygments_lexer": "ipython3",
   "version": "3.7.3"
  }
 },
 "nbformat": 4,
 "nbformat_minor": 2
}
