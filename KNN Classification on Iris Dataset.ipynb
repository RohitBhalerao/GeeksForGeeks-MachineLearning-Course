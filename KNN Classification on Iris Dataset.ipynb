{
 "cells": [
  {
   "cell_type": "code",
   "execution_count": 1,
   "metadata": {},
   "outputs": [
    {
     "name": "stdout",
     "output_type": "stream",
     "text": [
      "Predicted target value: [0]\n",
      "\n",
      "Predicted feature name: ['setosa']\n",
      "\n",
      "Test score: 0.97\n"
     ]
    }
   ],
   "source": [
    "# Python program to demonstrate \n",
    "# KNN classification algorithm \n",
    "# on IRIS dataser \n",
    "\n",
    "from sklearn.datasets import load_iris \n",
    "from sklearn.neighbors import KNeighborsClassifier \n",
    "import numpy as np \n",
    "from sklearn.model_selection import train_test_split \n",
    "\n",
    "iris_dataset=load_iris() \n",
    "\n",
    "X_train, X_test, y_train, y_test = train_test_split(iris_dataset[\"data\"], iris_dataset[\"target\"], random_state=0) \n",
    "\n",
    "kn = KNeighborsClassifier(n_neighbors=1) \n",
    "kn.fit(X_train, y_train) \n",
    "\n",
    "x_new = np.array([[5, 2.9, 1, 0.2]]) \n",
    "prediction = kn.predict(x_new) \n",
    "\n",
    "print(\"Predicted target value: {}\\n\".format(prediction)) \n",
    "print(\"Predicted feature name: {}\\n\".format\n",
    "\t(iris_dataset[\"target_names\"][prediction])) \n",
    "print(\"Test score: {:.2f}\".format(kn.score(X_test, y_test))) \n"
   ]
  },
  {
   "cell_type": "code",
   "execution_count": null,
   "metadata": {},
   "outputs": [],
   "source": []
  }
 ],
 "metadata": {
  "kernelspec": {
   "display_name": "Python 3",
   "language": "python",
   "name": "python3"
  },
  "language_info": {
   "codemirror_mode": {
    "name": "ipython",
    "version": 3
   },
   "file_extension": ".py",
   "mimetype": "text/x-python",
   "name": "python",
   "nbconvert_exporter": "python",
   "pygments_lexer": "ipython3",
   "version": "3.7.3"
  }
 },
 "nbformat": 4,
 "nbformat_minor": 2
}
