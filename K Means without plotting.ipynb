{
 "cells": [
  {
   "cell_type": "code",
   "execution_count": 1,
   "metadata": {},
   "outputs": [],
   "source": [
    "import math; #For pow and sqrt\n",
    "import sys;\n",
    "from random import shuffle, uniform;\n",
    "\n"
   ]
  },
  {
   "cell_type": "code",
   "execution_count": 2,
   "metadata": {},
   "outputs": [],
   "source": [
    "###_Pre-Processing_###\n",
    "def ReadData(fileName):\n",
    "    #Read the file, splitting by lines\n",
    "    f = open(fileName,'r');\n",
    "    lines = f.read().splitlines();\n",
    "    f.close();\n",
    "\n",
    "    items = [];\n",
    "\n",
    "    for i in range(1,len(lines)):\n",
    "        line = lines[i].split(',');\n",
    "        itemFeatures = [];\n",
    "\n",
    "        for j in range(len(line)-1):\n",
    "            v = float(line[j]); #Convert feature value to float\n",
    "            itemFeatures.append(v); #Add feature value to dict\n",
    "    \n",
    "        items.append(itemFeatures);\n",
    "\n",
    "    shuffle(items);\n",
    "\n",
    "    return items;\n",
    "\n",
    "\n"
   ]
  },
  {
   "cell_type": "code",
   "execution_count": 13,
   "metadata": {},
   "outputs": [],
   "source": [
    "###_Auxiliary Function_###\n",
    "def FindColMinMax(items):\n",
    "    n = len(items[0]);\n",
    "    minima = [sys.maxsize for i in range(n)];\n",
    "    maxima = [-sys.maxsize -1 for i in range(n)];\n",
    "    \n",
    "    for item in items:\n",
    "        for f in range(len(item)):\n",
    "            if(item[f] < minima[f]):\n",
    "                minima[f] = item[f];\n",
    "            \n",
    "            if(item[f] > maxima[f]):\n",
    "                maxima[f] = item[f];\n",
    "\n",
    "    return minima,maxima;\n",
    "\n"
   ]
  },
  {
   "cell_type": "code",
   "execution_count": 14,
   "metadata": {},
   "outputs": [],
   "source": [
    "def EuclideanDistance(x,y):\n",
    "    S = 0; #The sum of the squared differences of the elements\n",
    "    for i in range(len(x)):\n",
    "        S += math.pow(x[i]-y[i],2);\n",
    "\n",
    "    return math.sqrt(S); #The square root of the sum\n",
    "\n"
   ]
  },
  {
   "cell_type": "code",
   "execution_count": 15,
   "metadata": {},
   "outputs": [],
   "source": [
    "def InitializeMeans(items,k,cMin,cMax):\n",
    "    #Initialize means to random numbers between\n",
    "    #the min and max of each column/feature\n",
    "    \n",
    "    f = len(items[0]); #number of features\n",
    "    means = [[0 for i in range(f)] for j in range(k)];\n",
    "    \n",
    "    for mean in means:\n",
    "        for i in range(len(mean)):\n",
    "            #Set value to a random float\n",
    "            #(adding +-1 to avoid a wide placement of a mean)\n",
    "            mean[i] = uniform(cMin[i]+1,cMax[i]-1);\n",
    "\n",
    "    return means;\n",
    "\n"
   ]
  },
  {
   "cell_type": "code",
   "execution_count": 16,
   "metadata": {},
   "outputs": [],
   "source": [
    "def UpdateMean(n,mean,item):\n",
    "    for i in range(len(mean)):\n",
    "        m = mean[i];\n",
    "        m = (m*(n-1)+item[i])/float(n);\n",
    "        mean[i] = round(m,3);\n",
    "    \n",
    "    return mean;\n",
    "\n"
   ]
  },
  {
   "cell_type": "code",
   "execution_count": 17,
   "metadata": {},
   "outputs": [],
   "source": [
    "def FindClusters(means,items):\n",
    "    clusters = [[] for i in range(len(means))]; #Init clusters\n",
    "    \n",
    "    for item in items:\n",
    "        #Classify item into a cluster\n",
    "        index = Classify(means,item);\n",
    "\n",
    "        #Add item to cluster\n",
    "        clusters[index].append(item);\n",
    "\n",
    "    return clusters;\n",
    "\n",
    "\n"
   ]
  },
  {
   "cell_type": "code",
   "execution_count": 21,
   "metadata": {},
   "outputs": [],
   "source": [
    "###_Core Functions_###\n",
    "def Classify(means,item):\n",
    "    #Classify item to the mean with minimum distance\n",
    "    \n",
    "    minimum = sys.maxsize;\n",
    "    index = -1;\n",
    "\n",
    "    for i in range(len(means)):\n",
    "        #Find distance from item to mean\n",
    "        dis = EuclideanDistance(item,means[i]);\n",
    "\n",
    "        if(dis < minimum):\n",
    "            minimum = dis;\n",
    "            index = i;\n",
    "    \n",
    "    return index;\n",
    "\n",
    "\n"
   ]
  },
  {
   "cell_type": "code",
   "execution_count": 22,
   "metadata": {},
   "outputs": [],
   "source": [
    "def CalculateMeans(k,items,maxIterations=100000):\n",
    "    #Find the minima and maxima for columns\n",
    "    cMin, cMax = FindColMinMax(items);\n",
    "    \n",
    "    #Initialize means at random points\n",
    "    means = InitializeMeans(items,k,cMin,cMax);\n",
    "    \n",
    "    #Initialize clusters, the array to hold\n",
    "    #the number of items in a class\n",
    "    clusterSizes = [0 for i in range(len(means))];\n",
    "\n",
    "    #An array to hold the cluster an item is in\n",
    "    belongsTo = [0 for i in range(len(items))];\n",
    "\n",
    "    #Calculate means\n",
    "    for e in range(maxIterations):\n",
    "        #If no change of cluster occurs, halt\n",
    "        noChange = True;\n",
    "        for i in range(len(items)):\n",
    "            item = items[i];\n",
    "            #Classify item into a cluster and update the\n",
    "            #corresponding means.\n",
    "        \n",
    "            index = Classify(means,item);\n",
    "\n",
    "            clusterSizes[index] += 1;\n",
    "            means[index] = UpdateMean(clusterSizes[index],means[index],item);\n",
    "\n",
    "            #Item changed cluster\n",
    "            if(index != belongsTo[i]):\n",
    "                noChange = False;\n",
    "\n",
    "            belongsTo[i] = index;\n",
    "\n",
    "        #Nothing changed, return\n",
    "        if(noChange):\n",
    "            break;\n",
    "\n",
    "    return means;\n",
    "\n"
   ]
  },
  {
   "cell_type": "code",
   "execution_count": 23,
   "metadata": {},
   "outputs": [
    {
     "name": "stdout",
     "output_type": "stream",
     "text": [
      "[[5.005, 3.416, 1.463, 0.263], [5.655, 2.656, 4.056, 1.248], [6.555, 2.968, 5.327, 1.888]]\n",
      "[[[5.8, 4.0, 1.2, 0.2], [5.4, 3.9, 1.7, 0.4], [4.9, 3.1, 1.5, 0.1], [5.1, 3.3, 1.7, 0.5], [4.4, 3.2, 1.3, 0.2], [4.4, 2.9, 1.4, 0.2], [5.1, 3.8, 1.5, 0.3], [5.1, 3.5, 1.4, 0.3], [4.9, 3.1, 1.5, 0.1], [4.8, 3.0, 1.4, 0.1], [5.1, 3.4, 1.5, 0.2], [5.4, 3.4, 1.5, 0.4], [5.5, 3.5, 1.3, 0.2], [4.8, 3.0, 1.4, 0.3], [4.6, 3.4, 1.4, 0.3], [5.1, 3.8, 1.9, 0.4], [4.6, 3.2, 1.4, 0.2], [5.7, 4.4, 1.5, 0.4], [4.7, 3.2, 1.6, 0.2], [4.3, 3.0, 1.1, 0.1], [5.1, 3.8, 1.6, 0.2], [5.1, 3.7, 1.5, 0.4], [5.2, 4.1, 1.5, 0.1], [5.7, 3.8, 1.7, 0.3], [5.5, 4.2, 1.4, 0.2], [5.0, 3.2, 1.2, 0.2], [4.8, 3.1, 1.6, 0.2], [5.0, 3.5, 1.6, 0.6], [5.0, 3.0, 1.6, 0.2], [4.6, 3.6, 1.0, 0.2], [4.9, 3.1, 1.5, 0.1], [4.6, 3.1, 1.5, 0.2], [5.2, 3.5, 1.5, 0.2], [5.2, 3.4, 1.4, 0.2], [4.8, 3.4, 1.9, 0.2], [5.4, 3.4, 1.7, 0.2], [4.4, 3.0, 1.3, 0.2], [5.4, 3.9, 1.3, 0.4], [4.8, 3.4, 1.6, 0.2], [4.9, 3.0, 1.4, 0.2], [4.7, 3.2, 1.3, 0.2], [5.0, 3.4, 1.5, 0.2], [5.0, 3.4, 1.6, 0.4], [5.0, 3.6, 1.4, 0.2], [5.0, 3.3, 1.4, 0.2], [5.0, 3.5, 1.3, 0.3], [5.4, 3.7, 1.5, 0.2], [4.5, 2.3, 1.3, 0.3], [5.3, 3.7, 1.5, 0.2]], [[5.7, 2.8, 4.5, 1.3], [6.2, 2.2, 4.5, 1.5], [5.4, 3.0, 4.5, 1.5], [5.2, 2.7, 3.9, 1.4], [5.9, 3.0, 4.2, 1.5], [6.4, 2.9, 4.3, 1.3], [5.7, 2.8, 4.1, 1.3], [5.6, 3.0, 4.5, 1.5], [5.8, 2.6, 4.0, 1.2], [5.6, 3.0, 4.1, 1.3], [6.1, 3.0, 4.6, 1.4], [5.7, 3.0, 4.2, 1.2], [5.7, 2.6, 3.5, 1.0], [5.0, 2.3, 3.3, 1.0], [6.1, 2.9, 4.7, 1.4], [4.9, 2.4, 3.3, 1.0], [5.5, 2.4, 3.8, 1.1], [6.3, 2.3, 4.4, 1.3], [5.6, 2.7, 4.2, 1.3], [5.5, 2.3, 4.0, 1.3], [4.9, 2.5, 4.5, 1.7], [6.0, 3.4, 4.5, 1.6], [5.5, 2.5, 4.0, 1.3], [5.1, 2.5, 3.0, 1.1], [5.6, 2.9, 3.6, 1.3], [6.0, 2.2, 4.0, 1.0], [5.8, 2.7, 3.9, 1.2], [5.8, 2.7, 4.1, 1.0], [5.5, 2.6, 4.4, 1.2], [6.0, 2.9, 4.5, 1.5], [6.2, 2.9, 4.3, 1.3], [5.5, 2.4, 3.7, 1.0], [5.7, 2.9, 4.2, 1.3], [6.1, 2.8, 4.0, 1.3], [6.1, 2.8, 4.7, 1.2], [5.6, 2.5, 3.9, 1.1], [5.0, 2.0, 3.5, 1.0]], [[6.5, 3.0, 5.8, 2.2], [7.2, 3.6, 6.1, 2.5], [6.1, 2.6, 5.6, 1.4], [7.7, 3.8, 6.7, 2.2], [7.0, 3.2, 4.7, 1.4], [6.4, 3.2, 4.5, 1.5], [6.8, 3.0, 5.5, 2.1], [6.4, 3.1, 5.5, 1.8], [6.7, 2.5, 5.8, 1.8], [6.7, 3.3, 5.7, 2.1], [6.7, 3.0, 5.2, 2.3], [6.3, 3.4, 5.6, 2.4], [6.1, 3.0, 4.9, 1.8], [6.2, 2.8, 4.8, 1.8], [6.7, 3.0, 5.0, 1.7], [6.3, 2.5, 4.9, 1.5], [6.3, 2.7, 4.9, 1.8], [6.9, 3.2, 5.7, 2.3], [7.7, 2.6, 6.9, 2.3], [6.9, 3.1, 5.4, 2.1], [6.4, 2.8, 5.6, 2.2], [6.7, 3.3, 5.7, 2.5], [6.5, 2.8, 4.6, 1.5], [6.3, 3.3, 4.7, 1.6], [7.6, 3.0, 6.6, 2.1], [5.9, 3.0, 5.1, 1.8], [6.3, 2.8, 5.1, 1.5], [6.2, 3.4, 5.4, 2.3], [5.8, 2.8, 5.1, 2.4], [6.6, 2.9, 4.6, 1.3], [7.2, 3.0, 5.8, 1.6], [7.7, 3.0, 6.1, 2.3], [6.7, 3.1, 4.7, 1.5], [6.9, 3.1, 5.1, 2.3], [7.2, 3.2, 6.0, 1.8], [6.0, 3.0, 4.8, 1.8], [6.5, 3.2, 5.1, 2.0], [5.9, 3.2, 4.8, 1.8], [6.4, 2.7, 5.3, 1.9], [7.9, 3.8, 6.4, 2.0], [6.7, 3.1, 5.6, 2.4], [6.4, 3.2, 5.3, 2.3], [5.6, 2.8, 4.9, 2.0], [6.5, 3.0, 5.2, 2.0], [6.3, 2.5, 5.0, 1.9], [7.7, 2.8, 6.7, 2.0], [5.7, 2.5, 5.0, 2.0], [6.3, 2.9, 5.6, 1.8], [6.8, 2.8, 4.8, 1.4], [6.5, 3.0, 5.5, 1.8], [5.8, 2.7, 5.1, 1.9], [7.1, 3.0, 5.9, 2.1], [6.3, 3.3, 6.0, 2.5], [6.6, 3.0, 4.4, 1.4], [6.0, 2.7, 5.1, 1.6], [7.3, 2.9, 6.3, 1.8], [5.8, 2.7, 5.1, 1.9], [6.9, 3.1, 4.9, 1.5], [7.4, 2.8, 6.1, 1.9], [6.0, 2.2, 5.0, 1.5], [6.7, 3.1, 4.4, 1.4], [6.4, 2.8, 5.6, 2.1], [6.8, 3.2, 5.9, 2.3]]]\n"
     ]
    }
   ],
   "source": [
    "\n",
    "###_Main_###\n",
    "def main():\n",
    "    items = ReadData('data.txt');\n",
    "    \n",
    "    k = 3;\n",
    "\n",
    "    means = CalculateMeans(k,items);\n",
    "    clusters = FindClusters(means,items);\n",
    "    print(means)\n",
    "    print(clusters)\n",
    "\n",
    "    #newItem = [5.4,3.7,1.5,0.2];\n",
    "    #print Classify(means,newItem);\n",
    "\n",
    "if __name__ == \"__main__\":\n",
    "    main();"
   ]
  },
  {
   "cell_type": "code",
   "execution_count": null,
   "metadata": {},
   "outputs": [],
   "source": []
  }
 ],
 "metadata": {
  "kernelspec": {
   "display_name": "Python 3",
   "language": "python",
   "name": "python3"
  },
  "language_info": {
   "codemirror_mode": {
    "name": "ipython",
    "version": 3
   },
   "file_extension": ".py",
   "mimetype": "text/x-python",
   "name": "python",
   "nbconvert_exporter": "python",
   "pygments_lexer": "ipython3",
   "version": "3.7.3"
  }
 },
 "nbformat": 4,
 "nbformat_minor": 2
}
