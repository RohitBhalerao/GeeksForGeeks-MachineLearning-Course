{
 "cells": [
  {
   "cell_type": "code",
   "execution_count": 2,
   "metadata": {},
   "outputs": [
    {
     "data": {
      "text/plain": [
       "'Setting up the env'"
      ]
     },
     "execution_count": 2,
     "metadata": {},
     "output_type": "execute_result"
    }
   ],
   "source": [
    "# Python program to create \n",
    "# Image Classifier using CNN \n",
    "\n",
    "# Importing the required libraries \n",
    "import cv2 \n",
    "import os \n",
    "import numpy as np \n",
    "from random import shuffle \n",
    "from tqdm import tqdm \n",
    "\n",
    "'''Setting up the env'''\n"
   ]
  },
  {
   "cell_type": "code",
   "execution_count": 3,
   "metadata": {},
   "outputs": [],
   "source": [
    "\n",
    "TRAIN_DIR = 'train'\n",
    "TEST_DIR = 'test1'\n",
    "IMG_SIZE = 50\n",
    "LR = 1e-3\n",
    "\n",
    "\n"
   ]
  },
  {
   "cell_type": "code",
   "execution_count": 4,
   "metadata": {},
   "outputs": [],
   "source": [
    "'''Setting up the model which will help with tensorflow models'''\n",
    "MODEL_NAME = 'dogsvscats-{}-{}.model'.format(LR, '6conv-basic') \n",
    "\n"
   ]
  },
  {
   "cell_type": "code",
   "execution_count": 5,
   "metadata": {},
   "outputs": [],
   "source": [
    "'''Labelling the dataset'''\n",
    "def label_img(img): \n",
    "\tword_label = img.split('.')[-3] \n",
    "\t# DIY One hot encoder \n",
    "\tif word_label == 'cat': return [1, 0] \n",
    "\telif word_label == 'dog': return [0, 1] \n",
    "\n"
   ]
  },
  {
   "cell_type": "code",
   "execution_count": 6,
   "metadata": {},
   "outputs": [],
   "source": [
    "'''Creating the training data'''\n",
    "def create_train_data(): \n",
    "\t# Creating an empty list where we should the store the training data \n",
    "\t# after a little preprocessing of the data \n",
    "\ttraining_data = [] \n",
    "\n",
    "\t# tqdm is only used for interactive loading \n",
    "\t# loading the training data \n",
    "\tfor img in tqdm(os.listdir(TRAIN_DIR)): \n",
    "\n",
    "\t\t# labeling the images \n",
    "\t\tlabel = label_img(img) \n",
    "\n",
    "\t\tpath = os.path.join(TRAIN_DIR, img) \n",
    "\n",
    "\t\t# loading the image from the path and then converting them into \n",
    "\t\t# greyscale for easier covnet prob \n",
    "\t\timg = cv2.imread(path, cv2.IMREAD_GRAYSCALE) \n",
    "\n",
    "\t\t# resizing the image for processing them in the covnet \n",
    "\t\timg = cv2.resize(img, (IMG_SIZE, IMG_SIZE)) \n",
    "\n",
    "\t\t# final step-forming the training data list with numpy array of the images \n",
    "\t\ttraining_data.append([np.array(img), np.array(label)]) \n",
    "\n",
    "\t# shuffling of the training data to preserve the random state of our data \n",
    "\tshuffle(training_data) \n",
    "\n",
    "\t# saving our trained data for further uses if required \n",
    "\tnp.save('train_data.npy', training_data) \n",
    "\treturn training_data \n",
    "\n"
   ]
  },
  {
   "cell_type": "code",
   "execution_count": 7,
   "metadata": {},
   "outputs": [],
   "source": [
    "'''Processing the given test data'''\n",
    "# Almost same as processing the traning data but \n",
    "# we dont have to label it. \n",
    "def process_test_data(): \n",
    "\ttesting_data = [] \n",
    "\tfor img in tqdm(os.listdir(TEST_DIR)): \n",
    "\t\tpath = os.path.join(TEST_DIR, img) \n",
    "\t\timg_num = img.split('.')[0] \n",
    "\t\timg = cv2.imread(path, cv2.IMREAD_GRAYSCALE) \n",
    "\t\timg = cv2.resize(img, (IMG_SIZE, IMG_SIZE)) \n",
    "\t\ttesting_data.append([np.array(img), img_num]) \n",
    "\t\t\n",
    "\tshuffle(testing_data) \n",
    "\tnp.save('test_data.npy', testing_data) \n",
    "\treturn testing_data \n"
   ]
  },
  {
   "cell_type": "code",
   "execution_count": 8,
   "metadata": {},
   "outputs": [
    {
     "name": "stderr",
     "output_type": "stream",
     "text": [
      "100%|██████████| 25000/25000 [03:45<00:00, 110.98it/s]\n",
      "100%|██████████| 12500/12500 [01:17<00:00, 162.26it/s]\n"
     ]
    }
   ],
   "source": [
    "\n",
    "'''Running the training and the testing in the dataset for our model'''\n",
    "train_data = create_train_data() \n",
    "test_data = process_test_data() \n",
    "\n"
   ]
  },
  {
   "cell_type": "code",
   "execution_count": 9,
   "metadata": {},
   "outputs": [
    {
     "name": "stderr",
     "output_type": "stream",
     "text": [
      "WARNING: Logging before flag parsing goes to stderr.\n",
      "W0717 20:10:03.573524 140632683738944 deprecation_wrapper.py:119] From /home/rohitbhalerao/anaconda3/lib/python3.7/site-packages/tflearn/helpers/summarizer.py:9: The name tf.summary.merge is deprecated. Please use tf.compat.v1.summary.merge instead.\n",
      "\n",
      "W0717 20:10:03.587445 140632683738944 deprecation_wrapper.py:119] From /home/rohitbhalerao/anaconda3/lib/python3.7/site-packages/tflearn/helpers/trainer.py:25: The name tf.summary.FileWriter is deprecated. Please use tf.compat.v1.summary.FileWriter instead.\n",
      "\n",
      "W0717 20:10:03.838390 140632683738944 deprecation_wrapper.py:119] From /home/rohitbhalerao/anaconda3/lib/python3.7/site-packages/tflearn/collections.py:13: The name tf.GraphKeys is deprecated. Please use tf.compat.v1.GraphKeys instead.\n",
      "\n",
      "W0717 20:10:03.976870 140632683738944 deprecation_wrapper.py:119] From /home/rohitbhalerao/anaconda3/lib/python3.7/site-packages/tflearn/config.py:123: The name tf.get_collection is deprecated. Please use tf.compat.v1.get_collection instead.\n",
      "\n",
      "W0717 20:10:04.042634 140632683738944 deprecation_wrapper.py:119] From /home/rohitbhalerao/anaconda3/lib/python3.7/site-packages/tflearn/config.py:129: The name tf.add_to_collection is deprecated. Please use tf.compat.v1.add_to_collection instead.\n",
      "\n",
      "W0717 20:10:04.058229 140632683738944 deprecation_wrapper.py:119] From /home/rohitbhalerao/anaconda3/lib/python3.7/site-packages/tflearn/config.py:131: The name tf.assign is deprecated. Please use tf.compat.v1.assign instead.\n",
      "\n"
     ]
    }
   ],
   "source": [
    "# train_data = np.load('train_data.npy') \n",
    "# test_data = np.load('test_data.npy') \n",
    "'''Creating the neural network using tensorflow'''\n",
    "# Importing the required libraries \n",
    "import tflearn \n",
    "from tflearn.layers.conv import conv_2d, max_pool_2d \n",
    "from tflearn.layers.core import input_data, dropout, fully_connected \n",
    "from tflearn.layers.estimator import regression \n",
    "\n"
   ]
  },
  {
   "cell_type": "code",
   "execution_count": 20,
   "metadata": {},
   "outputs": [],
   "source": [
    "import tensorflow as tf \n",
    "tf.reset_default_graph() \n",
    "convnet = input_data(shape =[None, IMG_SIZE, IMG_SIZE, 1], name ='input') \n",
    "\n",
    "convnet = conv_2d(convnet, 32, 5, activation ='relu') \n",
    "convnet = max_pool_2d(convnet, 5) \n",
    "\n",
    "convnet = conv_2d(convnet, 64, 5, activation ='relu') \n",
    "convnet = max_pool_2d(convnet, 5) \n",
    "\n",
    "convnet = conv_2d(convnet, 128, 5, activation ='relu') \n",
    "convnet = max_pool_2d(convnet, 5) \n",
    "\n",
    "convnet = conv_2d(convnet, 64, 5, activation ='relu') \n",
    "convnet = max_pool_2d(convnet, 5) \n",
    "\n",
    "convnet = conv_2d(convnet, 32, 5, activation ='relu') \n",
    "convnet = max_pool_2d(convnet, 5) \n",
    "\n",
    "convnet = fully_connected(convnet, 1024, activation ='relu') \n",
    "convnet = dropout(convnet, 0.8) \n",
    "\n",
    "convnet = fully_connected(convnet, 2, activation ='softmax') \n",
    "convnet = regression(convnet, optimizer ='adam', learning_rate = LR, \n",
    "\tloss ='categorical_crossentropy', name ='targets') \n",
    "\n"
   ]
  },
  {
   "cell_type": "code",
   "execution_count": 21,
   "metadata": {},
   "outputs": [],
   "source": [
    "model = tflearn.DNN(convnet, tensorboard_dir ='log') \n",
    "\n",
    "# Splitting the testing data and training data \n",
    "train = train_data[:-500] \n",
    "test = train_data[-500:] \n",
    "\n",
    "\n"
   ]
  },
  {
   "cell_type": "code",
   "execution_count": 12,
   "metadata": {},
   "outputs": [],
   "source": [
    "'''Setting up the features and lables'''\n",
    "# X-Features & Y-Labels \n",
    "\n",
    "X = np.array([i[0] for i in train]).reshape(-1, IMG_SIZE, IMG_SIZE, 1) \n",
    "Y = [i[1] for i in train] \n",
    "test_x = np.array([i[0] for i in test]).reshape(-1, IMG_SIZE, IMG_SIZE, 1) \n",
    "test_y = [i[1] for i in test] \n",
    "\n"
   ]
  },
  {
   "cell_type": "code",
   "execution_count": 13,
   "metadata": {},
   "outputs": [
    {
     "name": "stdout",
     "output_type": "stream",
     "text": [
      "Training Step: 1914  | total loss: \u001b[1m\u001b[32m0.38004\u001b[0m\u001b[0m | time: 58.036s\n",
      "| Adam | epoch: 005 | loss: 0.38004 - acc: 0.8252 -- iter: 24448/24500\n",
      "Training Step: 1915  | total loss: \u001b[1m\u001b[32m0.37686\u001b[0m\u001b[0m | time: 59.197s\n",
      "| Adam | epoch: 005 | loss: 0.37686 - acc: 0.8255 | val_loss: 0.48599 - val_acc: 0.7720 -- iter: 24500/24500\n",
      "--\n"
     ]
    }
   ],
   "source": [
    "'''Fitting the data into our model'''\n",
    "# epoch = 5 taken \n",
    "model.fit({'input': X}, {'targets': Y}, n_epoch = 5, \n",
    "\tvalidation_set =({'input': test_x}, {'targets': test_y}), \n",
    "\tsnapshot_step = 500, show_metric = True, run_id = MODEL_NAME) \n",
    "model.save(MODEL_NAME) \n",
    "\n"
   ]
  },
  {
   "cell_type": "code",
   "execution_count": 14,
   "metadata": {},
   "outputs": [
    {
     "data": {
      "text/plain": [
       "<Figure size 432x288 with 0 Axes>"
      ]
     },
     "metadata": {},
     "output_type": "display_data"
    }
   ],
   "source": [
    "'''Testing the data'''\n",
    "import matplotlib.pyplot as plt \n",
    "# if you need to create the data: \n",
    "# test_data = process_test_data() \n",
    "# if you already have some saved: \n",
    "np_load_old = np.load\n",
    "np.load = lambda *a,**k: np_load_old(*a, allow_pickle=True, **k)\n",
    "test_data = np.load('test_data.npy') \n",
    "\n",
    "fig = plt.figure() \n",
    "\n"
   ]
  },
  {
   "cell_type": "code",
   "execution_count": 15,
   "metadata": {},
   "outputs": [
    {
     "data": {
      "image/png": "[encoded data removed]",
      "text/plain": [
       "<Figure size 432x288 with 1 Axes>"
      ]
     },
     "metadata": {
      "needs_background": "light"
     },
     "output_type": "display_data"
    }
   ],
   "source": [
    "for num, data in enumerate(test_data[:20]): \n",
    "\t# cat: [1, 0] \n",
    "\t# dog: [0, 1] \n",
    "\t\n",
    "\timg_num = data[1] \n",
    "\timg_data = data[0] \n",
    "\t\n",
    "\ty = fig.add_subplot(4, 5, num + 1) \n",
    "\torig = img_data \n",
    "\tdata = img_data.reshape(IMG_SIZE, IMG_SIZE, 1) \n",
    "\n",
    "\t# model_out = model.predict([data])[0] \n",
    "\tmodel_out = model.predict([data])[0] \n",
    "\t\n",
    "\tif np.argmax(model_out) == 1: str_label ='Dog'\n",
    "\telse: str_label ='Cat'\n",
    "\t\t\n",
    "\ty.imshow(orig, cmap ='gray') \n",
    "\tplt.title(str_label) \n",
    "\ty.axes.get_xaxis().set_visible(False) \n",
    "\ty.axes.get_yaxis().set_visible(False) \n",
    "plt.show() "
   ]
  },
  {
   "cell_type": "code",
   "execution_count": 16,
   "metadata": {},
   "outputs": [],
   "source": [
    "saver = tf.train.Saver()"
   ]
  },
  {
   "cell_type": "code",
   "execution_count": 22,
   "metadata": {},
   "outputs": [
    {
     "name": "stderr",
     "output_type": "stream",
     "text": [
      "W0717 21:20:09.903237 140632683738944 deprecation.py:323] From /home/rohitbhalerao/anaconda3/lib/python3.7/site-packages/tensorflow/python/training/saver.py:1276: checkpoint_exists (from tensorflow.python.training.checkpoint_management) is deprecated and will be removed in a future version.\n",
      "Instructions for updating:\n",
      "Use standard file APIs to check for files with this prefix.\n"
     ]
    },
    {
     "name": "stdout",
     "output_type": "stream",
     "text": [
      "model loaded!\n"
     ]
    }
   ],
   "source": [
    "if os.path.exists('{}.meta'.format(MODEL_NAME)):\n",
    "    model.load(MODEL_NAME)\n",
    "    print('model loaded!')"
   ]
  },
  {
   "cell_type": "code",
   "execution_count": null,
   "metadata": {},
   "outputs": [],
   "source": []
  }
 ],
 "metadata": {
  "kernelspec": {
   "display_name": "Python 3",
   "language": "python",
   "name": "python3"
  },
  "language_info": {
   "codemirror_mode": {
    "name": "ipython",
    "version": 3
   },
   "file_extension": ".py",
   "mimetype": "text/x-python",
   "name": "python",
   "nbconvert_exporter": "python",
   "pygments_lexer": "ipython3",
   "version": "3.7.3"
  }
 },
 "nbformat": 4,
 "nbformat_minor": 2
}
