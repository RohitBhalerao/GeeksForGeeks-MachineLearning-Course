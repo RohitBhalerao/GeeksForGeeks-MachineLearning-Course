{
 "cells": [
  {
   "cell_type": "code",
   "execution_count": 2,
   "metadata": {},
   "outputs": [
    {
     "name": "stderr",
     "output_type": "stream",
     "text": [
      "[nltk_data] Downloading package wordnet to\n",
      "[nltk_data]     /home/rohitbhalerao/nltk_data...\n",
      "[nltk_data]   Unzipping corpora/wordnet.zip.\n"
     ]
    },
    {
     "name": "stdout",
     "output_type": "stream",
     "text": [
      "plan.n.01\n",
      "plan\n",
      "a series of steps to be carried out or goals to be accomplished\n",
      "['they drew up a six-step plan', 'they discussed plans for a new bond issue']\n"
     ]
    }
   ],
   "source": [
    "# First, you're going to need to import wordnet: \n",
    "import nltk\n",
    "nltk.download('wordnet')\n",
    "\n",
    "# Then, we're going to use the term \"program\" to find synsets like so: \n",
    "syns = wordnet.synsets(\"program\") \n",
    "\n",
    "# An example of a synset: \n",
    "print(syns[0].name()) \n",
    "\n",
    "# Just the word: \n",
    "print(syns[0].lemmas()[0].name()) \n",
    "\n",
    "# Definition of that first synset: \n",
    "print(syns[0].definition()) \n",
    "\n",
    "# Examples of the word in use in sentences: \n",
    "print(syns[0].examples()) \n"
   ]
  },
  {
   "cell_type": "code",
   "execution_count": 3,
   "metadata": {},
   "outputs": [
    {
     "name": "stdout",
     "output_type": "stream",
     "text": [
      "{'unspoiled', 'effective', 'ripe', 'serious', 'well', 'honest', 'right', 'just', 'secure', 'unspoilt', 'adept', 'salutary', 'honorable', 'undecomposed', 'full', 'estimable', 'respectable', 'skilful', 'safe', 'skillful', 'beneficial', 'trade_good', 'sound', 'practiced', 'proficient', 'expert', 'in_effect', 'commodity', 'dear', 'near', 'in_force', 'good', 'dependable', 'upright', 'goodness', 'thoroughly', 'soundly'}\n",
      "{'evilness', 'evil', 'badness', 'ill', 'bad'}\n"
     ]
    }
   ],
   "source": [
    "import nltk \n",
    "from nltk.corpus import wordnet \n",
    "synonyms = [] \n",
    "antonyms = [] \n",
    "\n",
    "for syn in wordnet.synsets(\"good\"): \n",
    "\tfor l in syn.lemmas(): \n",
    "\t\tsynonyms.append(l.name()) \n",
    "\t\tif l.antonyms(): \n",
    "\t\t\tantonyms.append(l.antonyms()[0].name()) \n",
    "\n",
    "print(set(synonyms)) \n",
    "print(set(antonyms)) \n"
   ]
  },
  {
   "cell_type": "code",
   "execution_count": 4,
   "metadata": {},
   "outputs": [
    {
     "name": "stdout",
     "output_type": "stream",
     "text": [
      "0.8571428571428571\n"
     ]
    }
   ],
   "source": [
    "import nltk \n",
    "from nltk.corpus import wordnet \n",
    "# Let's compare the noun of \"ship\" and \"boat:\" \n",
    "\n",
    "w1 = wordnet.synset('run.v.01') # v here denotes the tag verb \n",
    "w2 = wordnet.synset('sprint.v.01') \n",
    "print(w1.wup_similarity(w2)) \n"
   ]
  },
  {
   "cell_type": "code",
   "execution_count": 5,
   "metadata": {},
   "outputs": [
    {
     "name": "stdout",
     "output_type": "stream",
     "text": [
      "0.9090909090909091\n"
     ]
    }
   ],
   "source": [
    "w1 = wordnet.synset('ship.n.01') \n",
    "w2 = wordnet.synset('boat.n.01') # n denotes noun \n",
    "print(w1.wup_similarity(w2)) \n"
   ]
  },
  {
   "cell_type": "code",
   "execution_count": 8,
   "metadata": {},
   "outputs": [
    {
     "name": "stderr",
     "output_type": "stream",
     "text": [
      "[nltk_data] Downloading package stopwords to\n",
      "[nltk_data]     /home/rohitbhalerao/nltk_data...\n",
      "[nltk_data]   Package stopwords is already up-to-date!\n",
      "[nltk_data] Downloading package punkt to\n",
      "[nltk_data]     /home/rohitbhalerao/nltk_data...\n",
      "[nltk_data]   Unzipping tokenizers/punkt.zip.\n"
     ]
    },
    {
     "name": "stdout",
     "output_type": "stream",
     "text": [
      "['This', 'is', 'a', 'sample', 'sentence', ',', 'showing', 'off', 'the', 'stop', 'words', 'filtration', '.']\n",
      "['This', 'sample', 'sentence', ',', 'showing', 'stop', 'words', 'filtration', '.']\n"
     ]
    }
   ],
   "source": [
    "nltk.download('stopwords') \n",
    "nltk.download('punkt')\n",
    "from nltk.tokenize import word_tokenize \n",
    "\n",
    "example_sent = \"This is a sample sentence, showing off the stop words filtration.\"\n",
    "\n",
    "stop_words = set(stopwords.words('english')) \n",
    "\n",
    "word_tokens = word_tokenize(example_sent) \n",
    "\n",
    "filtered_sentence = [w for w in word_tokens if not w in stop_words] \n",
    "\n",
    "filtered_sentence = [] \n",
    "\n",
    "for w in word_tokens: \n",
    "\tif w not in stop_words: \n",
    "\t\tfiltered_sentence.append(w) \n",
    "\n",
    "print(word_tokens) \n",
    "print(filtered_sentence) \n"
   ]
  },
  {
   "cell_type": "code",
   "execution_count": 12,
   "metadata": {},
   "outputs": [
    {
     "name": "stdout",
     "output_type": "stream",
     "text": [
      "['Natural language processing (NLP) is a field of computer science, artificial intelligence and computational linguistics concerned with the interactions between computers and human (natural) languages, and, in particular, concerned with programming computers to fruitfully process large natural language corpora.', 'Challenges in natural language processing frequently involve natural language understanding, natural languagegeneration frequently from formal, machine-readable logical forms), connecting language and machine perception, managing human-computer dialog systems, or some combination thereof.']\n",
      "['Natural', 'language', 'processing', '(', 'NLP', ')', 'is', 'a', 'field', 'of', 'computer', 'science', ',', 'artificial', 'intelligence', 'and', 'computational', 'linguistics', 'concerned', 'with', 'the', 'interactions', 'between', 'computers', 'and', 'human', '(', 'natural', ')', 'languages', ',', 'and', ',', 'in', 'particular', ',', 'concerned', 'with', 'programming', 'computers', 'to', 'fruitfully', 'process', 'large', 'natural', 'language', 'corpora', '.', 'Challenges', 'in', 'natural', 'language', 'processing', 'frequently', 'involve', 'natural', 'language', 'understanding', ',', 'natural', 'languagegeneration', 'frequently', 'from', 'formal', ',', 'machine-readable', 'logical', 'forms', ')', ',', 'connecting', 'language', 'and', 'machine', 'perception', ',', 'managing', 'human-computer', 'dialog', 'systems', ',', 'or', 'some', 'combination', 'thereof', '.']\n"
     ]
    }
   ],
   "source": [
    "# import the existing word and sentence tokenizing \n",
    "# libraries \n",
    "from nltk.tokenize import sent_tokenize, word_tokenize \n",
    "\n",
    "text = \"Natural language processing (NLP) is a field \" + \\\n",
    "\t\"of computer science, artificial intelligence \" + \\\n",
    "\t\"and computational linguistics concerned with \" + \\\n",
    "\t\"the interactions between computers and human \" + \\\n",
    "\t\"(natural) languages, and, in particular, \" + \\\n",
    "\t\"concerned with programming computers to \" + \\\n",
    "\t\"fruitfully process large natural language \" + \\\n",
    "\t\"corpora. Challenges in natural language \" + \\\n",
    "\t\"processing frequently involve natural \" + \\\n",
    "\t\"language understanding, natural language\" + \\\n",
    "\t\"generation frequently from formal, machine\" + \\\n",
    "\t\"-readable logical forms), connecting language \" + \\\n",
    "\t\"and machine perception, managing human-\" + \\\n",
    "\t\"computer dialog systems, or some combination \" + \\\n",
    "\t\"thereof.\"\n",
    "\n",
    "print(sent_tokenize(text)) \n",
    "print(word_tokenize(text))\n"
   ]
  },
  {
   "cell_type": "code",
   "execution_count": null,
   "metadata": {},
   "outputs": [],
   "source": []
  }
 ],
 "metadata": {
  "kernelspec": {
   "display_name": "Python 3",
   "language": "python",
   "name": "python3"
  },
  "language_info": {
   "codemirror_mode": {
    "name": "ipython",
    "version": 3
   },
   "file_extension": ".py",
   "mimetype": "text/x-python",
   "name": "python",
   "nbconvert_exporter": "python",
   "pygments_lexer": "ipython3",
   "version": "3.7.3"
  }
 },
 "nbformat": 4,
 "nbformat_minor": 2
}
