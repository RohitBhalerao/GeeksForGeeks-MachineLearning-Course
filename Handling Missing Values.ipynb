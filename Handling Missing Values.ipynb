{
 "cells": [
  {
   "cell_type": "code",
   "execution_count": 1,
   "metadata": {},
   "outputs": [],
   "source": [
    "# Python code explaining How to \n",
    "# Handle Missing Value in Dataset \n",
    "\n",
    "\"\"\" PART 1 \n",
    "\tImporting Libraries \"\"\"\n",
    "\n",
    "import numpy as np \n",
    "import matplotlib.pyplot as plt \n",
    "import pandas as pd \n",
    "\n"
   ]
  },
  {
   "cell_type": "code",
   "execution_count": 2,
   "metadata": {},
   "outputs": [
    {
     "name": "stdout",
     "output_type": "stream",
     "text": [
      "Data Head : \n",
      "    Country   Age   Salary Purchased\n",
      "0   France  44.0  72000.0        No\n",
      "1    Spain  27.0  48000.0       Yes\n",
      "2  Germany  30.0  54000.0        No\n",
      "3    Spain  38.0  61000.0        No\n",
      "4  Germany  40.0      NaN       Yes\n",
      "\n",
      "\n",
      "Data Describe : \n",
      "              Age        Salary\n",
      "count   9.000000      9.000000\n",
      "mean   38.777778  63777.777778\n",
      "std     7.693793  12265.579662\n",
      "min    27.000000  48000.000000\n",
      "25%    35.000000  54000.000000\n",
      "50%    38.000000  61000.000000\n",
      "75%    44.000000  72000.000000\n",
      "max    50.000000  83000.000000\n"
     ]
    }
   ],
   "source": [
    "\n",
    "\"\"\" PART 2 \n",
    "\tImporting Data \"\"\"\n",
    "\n",
    "data_sets = pd.read_csv('Data_for_Missing_Values.csv') \n",
    "\n",
    "print (\"Data Head : \\n\", data_sets.head()) \n",
    "\n",
    "print (\"\\n\\nData Describe : \\n\", data_sets.describe()) \n",
    "\n"
   ]
  },
  {
   "cell_type": "code",
   "execution_count": 3,
   "metadata": {},
   "outputs": [
    {
     "name": "stdout",
     "output_type": "stream",
     "text": [
      "\n",
      "\n",
      "Input : \n",
      " [['France' 44.0 72000.0]\n",
      " ['Spain' 27.0 48000.0]\n",
      " ['Germany' 30.0 54000.0]\n",
      " ['Spain' 38.0 61000.0]\n",
      " ['Germany' 40.0 nan]\n",
      " ['France' 35.0 58000.0]\n",
      " ['Spain' nan 52000.0]\n",
      " ['France' 48.0 79000.0]\n",
      " ['Germany' 50.0 83000.0]\n",
      " ['France' 37.0 67000.0]]\n",
      "\n",
      "\n",
      "Output: \n",
      " ['No' 'Yes' 'No' 'No' 'Yes' 'Yes' 'No' 'Yes' 'No' 'Yes']\n"
     ]
    }
   ],
   "source": [
    "\"\"\" PART 3 \n",
    "\tInput and Output Data \"\"\"\n",
    "\n",
    "# All rows but all columns except last \n",
    "X = data_sets.iloc[:, :-1].values \n",
    "\n",
    "# TES \n",
    "# All rows but only last column \n",
    "Y = data_sets.iloc[:, 3].values \n",
    "\t\t\t\t\n",
    "print(\"\\n\\nInput : \\n\", X) \n",
    "print(\"\\n\\nOutput: \\n\", Y) \n",
    "\n",
    "\n"
   ]
  },
  {
   "cell_type": "code",
   "execution_count": 4,
   "metadata": {},
   "outputs": [
    {
     "name": "stdout",
     "output_type": "stream",
     "text": [
      "\n",
      "\n",
      "New Input with Mean Value for NaN : \n",
      " [['France' 44.0 72000.0]\n",
      " ['Spain' 27.0 48000.0]\n",
      " ['Germany' 30.0 54000.0]\n",
      " ['Spain' 38.0 61000.0]\n",
      " ['Germany' 40.0 63777.77777777778]\n",
      " ['France' 35.0 58000.0]\n",
      " ['Spain' 38.77777777777778 52000.0]\n",
      " ['France' 48.0 79000.0]\n",
      " ['Germany' 50.0 83000.0]\n",
      " ['France' 37.0 67000.0]]\n"
     ]
    },
    {
     "name": "stderr",
     "output_type": "stream",
     "text": [
      "/home/rohitbhalerao/anaconda3/lib/python3.7/site-packages/sklearn/utils/deprecation.py:66: DeprecationWarning: Class Imputer is deprecated; Imputer was deprecated in version 0.20 and will be removed in 0.22. Import impute.SimpleImputer from sklearn instead.\n",
      "  warnings.warn(msg, category=DeprecationWarning)\n"
     ]
    }
   ],
   "source": [
    "\"\"\" PART 4 \n",
    "\tHandling the missing values \"\"\"\n",
    "\n",
    "# We will use sklearn library >> preprocessing package \n",
    "# Imputer class of that package \n",
    "from sklearn.preprocessing import Imputer \n",
    "\n",
    "# Using Imputer function to replace NaN \n",
    "# values with mean of that parameter value \n",
    "imputer = Imputer(missing_values = \"NaN\", \n",
    "\t\t\t\tstrategy = \"mean\", axis = 0) \n",
    "\t\t\t\t\t\n",
    "# Fitting the data, function learns the stats \n",
    "imputer = imputer.fit(X[:, 1:3]) \n",
    "\n",
    "# fit_transform() will execute those \n",
    "# stats on the input ie. X[:, 1:3] \n",
    "X[:, 1:3] = imputer.fit_transform(X[:, 1:3]) \n",
    "\n",
    "# filling the missing value with mean \n",
    "print(\"\\n\\nNew Input with Mean Value for NaN : \\n\", X) \n"
   ]
  },
  {
   "cell_type": "code",
   "execution_count": null,
   "metadata": {},
   "outputs": [],
   "source": []
  }
 ],
 "metadata": {
  "kernelspec": {
   "display_name": "Python 3",
   "language": "python",
   "name": "python3"
  },
  "language_info": {
   "codemirror_mode": {
    "name": "ipython",
    "version": 3
   },
   "file_extension": ".py",
   "mimetype": "text/x-python",
   "name": "python",
   "nbconvert_exporter": "python",
   "pygments_lexer": "ipython3",
   "version": "3.7.3"
  }
 },
 "nbformat": 4,
 "nbformat_minor": 2
}
